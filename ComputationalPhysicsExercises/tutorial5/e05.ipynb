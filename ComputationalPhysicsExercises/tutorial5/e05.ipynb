{
 "cells": [
  {
   "cell_type": "code",
   "execution_count": 2,
   "metadata": {},
   "outputs": [],
   "source": [
    "import numpy as np\n",
    "import matplotlib.pyplot as plt"
   ]
  },
  {
   "cell_type": "markdown",
   "metadata": {},
   "source": [
    "## Metropolis-Hasting algorithm"
   ]
  },
  {
   "cell_type": "code",
   "execution_count": 3,
   "metadata": {},
   "outputs": [],
   "source": [
    "\n",
    "def Delta_H(r,delta,u,x,N):\n",
    "    \"\"\"\"\"\n",
    "    Calculates the difference of the final and initial hamiltonian without needing to actually calculate the hamiltonian\n",
    "\n",
    "    Arguments: the list u, the site that was changed x, the length of the list N, r the random variable between -1 and 1\n",
    "               and delta a fixed scale parameter\n",
    "               \n",
    "    \"\"\"\"\"\n",
    "    L=64\n",
    "    alpha=L/N\n",
    "    return (1/alpha)*(2*r*delta*(2*u[x] + r*delta - u[(x-1)] - u[(x+1)]))\n"
   ]
  },
  {
   "cell_type": "code",
   "execution_count": 4,
   "metadata": {},
   "outputs": [],
   "source": [
    "def exp_m_exact(N): #exact expectation value of the magnetisation \n",
    "    return 0\n",
    "    \n",
    "def exp_m_2_exact(N,beta):#exact expectation value of the magnetisation  squared\n",
    "    L=64\n",
    "    alpha=L/N\n",
    "    return (N-1)*(alpha/(2*beta*(N**2)))   #add something that depends on the sum\n",
    "\n",
    "def exp_m(u,N):  #analytical calculation of the magnetisation \n",
    "    N=len(u)\n",
    "    sum_u=0\n",
    "\n",
    "    # Dririchlet boundary condiions\n",
    "    u[0]=0\n",
    "    u[-1]=0\n",
    "\n",
    "    for i in range(N-1):\n",
    "        sum_u+=u[i]\n",
    "\n",
    "    return (1/N)*sum_u \n",
    "\n",
    "def exp_m_2(u,N):  #analytical calculation of the magnetisation squared\n",
    "    N=len(u)\n",
    "    sum_u=0\n",
    "\n",
    "    # Dririchlet boundary condiions\n",
    "    u[0]=0\n",
    "    u[-1]=0\n",
    "\n",
    "    for i in range(N-1):\n",
    "        sum_u+=u[i]**2\n",
    "    return ((1/N)**2)*sum_u\n",
    "\n",
    "def exp_H(u,N):   #analytical calculation of the Hamiltonian -> energy\n",
    "    N=len(u)\n",
    "    L=64\n",
    "    alpha=L/N\n",
    "    # Dririchlet boundary condiions\n",
    "    u[0]=0\n",
    "    u[-1]=0\n",
    "\n",
    "    sum_u=0\n",
    "    for i in range(1,N-1):\n",
    "        sum_u+=(u[i]-u[i-1])**2\n",
    "\n",
    "    return (1/alpha)*sum_u\n"
   ]
  },
  {
   "cell_type": "code",
   "execution_count": 5,
   "metadata": {},
   "outputs": [],
   "source": [
    "def Metropolis_Hasting_sweep(u,delta=2,N=64,beta=1):\n",
    "    \"\"\"\n",
    "    Make sweeps on random site of the u list with a fixed scale parameter\n",
    "\n",
    "    Arguments: the list u(independently if it is fine or coarsed), delta scale parameter, length N (not necessary as later is\n",
    "               defined as len(u)), inverse temperature beta\n",
    "    \"\"\"\n",
    "    N=len(u)    #redife N as the length of u\n",
    " \n",
    "    u_new=u.copy()  # make a new list in order to manipulate u but also keep the initial form \n",
    "    prob=[]         # probability of acceptance\n",
    "\n",
    "    for i in range(N-1):\n",
    "        x=np.random.randint(1,N-1)      # choose random site \n",
    "        #x=i\n",
    "        r=np.random.uniform(-1,1)       # r~U([-1,1])\n",
    "\n",
    "        u_prime=u_new[x]+(r*delta)      \n",
    "        #Metropolis-Hasting accept/reject\n",
    "        if np.random.uniform()<=np.exp(-Delta_H(r,delta,u_new,x,N)):\n",
    "            u_new[x]=u_prime\n",
    "            prob.append(1)     \n",
    "        else:            \n",
    "            u_new[x]=u_new[x]\n",
    "            prob.append(0)\n",
    "            \n",
    "    return u_new\n",
    "    "
   ]
  },
  {
   "cell_type": "markdown",
   "metadata": {},
   "source": [
    "### Test the algorithm with the parameters from the sheet"
   ]
  },
  {
   "cell_type": "code",
   "execution_count": 6,
   "metadata": {},
   "outputs": [],
   "source": [
    "N=64\n",
    "u=[np.random.uniform(5,6) for i in range(N)]   #initialize u between 0 and 1. The initial conditions shouldn't \n",
    "                                               #matter that much, as we have a thermalization to the correct values\n",
    "mean_m=[]       #mean magnetization taken from the analytic formula\n",
    "mean_m_2=[]     #mean magnetization squared taken from the analytic formula\n",
    "energy=[]       #mean energy taken from the analytic formula    \n",
    "\n",
    "mean_mag_exact=[]      #lists to stor the exact values\n",
    "mean_mag_2_exact=[]\n",
    "\n",
    "nTherm=2000\n",
    "\n",
    "for i in range(nTherm):\n",
    "    u_sweep=Metropolis_Hasting_sweep(u)   #make sweep \n",
    "    u=u_sweep\n",
    "\n",
    "for i in range(5000):\n",
    "    u_sweep=Metropolis_Hasting_sweep(u)   #make sweep \n",
    "    u=u_sweep\n",
    "     \n",
    "    mean_m.append(exp_m(u_sweep,N))                #Save the mean of the observables measured\n",
    "    mean_m_2.append(exp_m_2(u_sweep,N))\n",
    "    energy.append(exp_H(u_sweep,N))\n",
    "   \n",
    "    \n",
    "    mean_mag_exact.append(exp_m_exact(N))                   #save the exact values\n",
    "    mean_mag_2_exact.append(exp_m_2_exact(N,beta=1))\n",
    "\n",
    "    \n"
   ]
  },
  {
   "cell_type": "code",
   "execution_count": 7,
   "metadata": {},
   "outputs": [
    {
     "data": {
      "text/plain": [
       "[<matplotlib.lines.Line2D at 0x21cfb46cf40>]"
      ]
     },
     "execution_count": 7,
     "metadata": {},
     "output_type": "execute_result"
    },
    {
     "data": {
      "image/png": "[encoded data removed]",
      "text/plain": [
       "<Figure size 432x288 with 1 Axes>"
      ]
     },
     "metadata": {
      "needs_background": "light"
     },
     "output_type": "display_data"
    }
   ],
   "source": [
    "plt.plot(mean_m)\n",
    "plt.plot(mean_mag_exact)       # Briefly plotting the exact values and the analytical results"
   ]
  },
  {
   "cell_type": "code",
   "execution_count": 8,
   "metadata": {},
   "outputs": [
    {
     "data": {
      "text/plain": [
       "[<matplotlib.lines.Line2D at 0x21cfd5509a0>]"
      ]
     },
     "execution_count": 8,
     "metadata": {},
     "output_type": "execute_result"
    },
    {
     "data": {
      "image/png": "[encoded data removed]",
      "text/plain": [
       "<Figure size 432x288 with 1 Axes>"
      ]
     },
     "metadata": {
      "needs_background": "light"
     },
     "output_type": "display_data"
    }
   ],
   "source": [
    "\n",
    "plt.plot(energy)"
   ]
  },
  {
   "cell_type": "code",
   "execution_count": 9,
   "metadata": {},
   "outputs": [],
   "source": [
    "#Fine to coarse\n",
    "def FtC(u):\n",
    "    u_C=[u[i] for i in range(0,len(u),2)]\n",
    "    return u_C\n",
    "\n",
    "#Coarse to Fine\n",
    "def CtF(u):\n",
    "    u_F=[]\n",
    "    for i in range(2*len(u)):\n",
    "        if i%2==0:\n",
    "            u_F.append(u[i//2])\n",
    "        else:\n",
    "            u_F.append((u[((i-1)//2)-1]+u[((i+1)//2)-1])/2)\n",
    "    return u_F"
   ]
  },
  {
   "cell_type": "code",
   "execution_count": 10,
   "metadata": {},
   "outputs": [],
   "source": [
    "def phi_2a(u,u_2a,phi_a,N=64):\n",
    "    \"\"\" \n",
    "    Calculate φ(2α) as a function of φ(α)\n",
    "    Arguments: fine list u , coarsed list u_2a, external field of previous layer phi_a\n",
    "    \"\"\"\n",
    "    N=len(u)\n",
    "    L=64\n",
    "    alpha=L/N\n",
    "    s=u.copy()\n",
    "    phi_2a_r=[]\n",
    "    for i in range(len(u_2a)-1):\n",
    "        phi_2a_r.append((1/(2*(alpha)**2))*(-s[2*i-2]+2*s[2*i]-s[2*i+2])+(1/4)*(phi_a[2*i-1]+phi_a[2*i]+phi_a[2*i+1]))\n",
    "\n",
    "    return phi_2a_r\n"
   ]
  },
  {
   "cell_type": "code",
   "execution_count": 11,
   "metadata": {},
   "outputs": [],
   "source": [
    "def Hamiltonian_F(u,phi,N):\n",
    "    \"\"\" \n",
    "    Calculate the Hamiltonian with the dependence on the external field phi\n",
    "\n",
    "    Arguments:list u, external field phi, and N(unesessary redifined later as len(u))\n",
    "    \"\"\"\n",
    "    N=len(u)\n",
    "    L=64\n",
    "    alpha=L/N\n",
    "\n",
    "    sum_u=0\n",
    "\n",
    "    #Dirichlet boundary condition\n",
    "    u[0]=0\n",
    "    u[N-1]=0\n",
    "\n",
    "    for i in range(N):\n",
    "        sum_u+=(u[i]-u[i-1])**2\n",
    "\n",
    "    sum_phi=0\n",
    "    for i in range(N-1):\n",
    "        sum_phi+=u[i]*phi[i]\n",
    "\n",
    "    return (1/alpha)*(sum_u)"
   ]
  },
  {
   "cell_type": "code",
   "execution_count": 79,
   "metadata": {},
   "outputs": [],
   "source": [
    "def gamma_cycle(u,depth,vpre):\n",
    "    \"\"\" \n",
    "    Function that take a configuration and do a recursion step\n",
    "\n",
    "    Arguments: configuration list u, willing depth of the recursion step, number of sweeps per step vpre\n",
    "    \"\"\"\n",
    "    d=depth #arbitraly chosen\n",
    "    #u=np.zeros(len(u)) is what is suggested\n",
    "\n",
    "    for i in range(vpre):               #sweep vpre times\n",
    "        u_r=Metropolis_Hasting_sweep(u)\n",
    "        u=u_r\n",
    "        \n",
    "    u_r_copied=u_r.copy()           #copy the initial coniguration to be able to save it\n",
    "\n",
    "    for i in range(d):\n",
    "        u_r_C=FtC(u_r_copied)           #coarse and\n",
    "        for i in range(vpre):           #sweep vpre times\n",
    "            u_r_C=Metropolis_Hasting_sweep(u_r_C)\n",
    "        u_r_copied=u_r_C\n",
    "\n",
    "    for i in range(d):\n",
    "        u_r_F=CtF(u_r_C)                #uncoarse and\n",
    "        for i in range(vpre):           #sweep vpre times\n",
    "            u_r_F=Metropolis_Hasting_sweep(u_r_F)\n",
    "        u_r_C=u_r_F\n",
    "\n",
    "    for i in range(vpre):                   #sweep vpost=vpre times\n",
    "        u_r=Metropolis_Hasting_sweep(u_r_F)\n",
    "        u_r_F=u_r\n",
    "    \n",
    "    \n",
    "    if len(u_r)!=len(u): print(\"Did't work properly\")  #Test\n",
    "\n",
    "    return u_r\n",
    "    "
   ]
  },
  {
   "cell_type": "code",
   "execution_count": 80,
   "metadata": {},
   "outputs": [],
   "source": [
    "def MG_simulation(u,cycle,vpre):\n",
    "    \"\"\" \n",
    "    Implimenting the Multi-grid algorithm as mentioned in the sheet\n",
    "\n",
    "    Arguments:configuration list u, type of the cycle in the variable cycle, number of pre and post coarsening MH sweep vpre\n",
    "    \"\"\"\n",
    "    #Define if cycle V or W\n",
    "    if cycle==\"V\":\n",
    "        gamma=1\n",
    "    elif cycle==\"W\":\n",
    "        gamma=2\n",
    "\n",
    "    #pre-coarsing MH sweeps\n",
    "    for i in range(vpre):\n",
    "        u_pre=Metropolis_Hasting_sweep(u)\n",
    "        u=u_pre\n",
    "    \n",
    "    phi_a=[0 for i in range(len(u_pre))] #define phi_a of the fine level\n",
    "\n",
    "    u_F=u_pre.copy()\n",
    "    u_coarse=FtC(u_F)       # First coarsening! Fine -> Level 2a\n",
    "\n",
    "    #we calculate phi_2a and the Hamiltonian for the coarsed level\n",
    "    phi2a=phi_2a(u_F,u_coarse,phi_a,N=len(u_F))\n",
    "    Ham_Coarse=Hamiltonian_F(u_coarse,phi2a,N=len(u_coarse))\n",
    "\n",
    "    for i in range(gamma):      #recursion. Gamma cycles\n",
    "        u_gamma=gamma_cycle(u_coarse,3,vpre)\n",
    "        u_coarse=u_gamma\n",
    "       \n",
    "    u_post=CtF(u_gamma)     #Last uncoarsening! Level 2a -> Fine \n",
    "    for i in range(vpre):\n",
    "        u_post=Metropolis_Hasting_sweep(u_post)\n",
    "\n",
    "    if len(u_pre)!= len(u_post): print(\"Didn't work properly\")  # Test \n",
    "\n",
    "    return u_post\n"
   ]
  },
  {
   "cell_type": "markdown",
   "metadata": {},
   "source": [
    "### We use again the functions created on the previous sheet for the autocorrelation and $C(\\tau)$ factor"
   ]
  },
  {
   "cell_type": "code",
   "execution_count": 14,
   "metadata": {},
   "outputs": [],
   "source": [
    "def estimator_gamma_tau(m,tau):     #We calculate the Gamma estimator from the sheet\n",
    "    m_bar=sum(m)/len(m)             #we calculate the mean of the list\n",
    "    sum_of_ms=0                     #for the sum of the magnetisation\n",
    "    num_of_pairs=0                  #for the #(k,l)\n",
    "    \n",
    "    #sum over the correlated sites of the list as indicated in the sheet\n",
    "    for i in range(len(m)-tau):           \n",
    "        sum_of_ms+=(m[i]-m_bar)*(m[i+tau]-m_bar)\n",
    "        num_of_pairs+=1\n",
    "\n",
    "    return (1/num_of_pairs)*sum_of_ms    # return the formula given in the sheet\n",
    "\n",
    "def estimator_C_tau(m,tau):\n",
    "    return estimator_gamma_tau(m,tau)/estimator_gamma_tau(m,tau=0)   #C(τ)=Γ(τ)/Γ(0)"
   ]
  },
  {
   "cell_type": "code",
   "execution_count": 82,
   "metadata": {},
   "outputs": [
    {
     "data": {
      "image/png": "[encoded data removed]",
      "text/plain": [
       "<Figure size 576x432 with 1 Axes>"
      ]
     },
     "metadata": {
      "needs_background": "light"
     },
     "output_type": "display_data"
    },
    {
     "data": {
      "image/png": "[encoded data removed]",
      "text/plain": [
       "<Figure size 576x432 with 1 Axes>"
      ]
     },
     "metadata": {
      "needs_background": "light"
     },
     "output_type": "display_data"
    }
   ],
   "source": [
    "#Initialize u\n",
    "u_in=[np.random.uniform(5,6) for i in range(64)]\n",
    "\n",
    "mean_mag_2_MG=[] # create a list to save the squared magnetization\n",
    "\n",
    "for cycle in [\"V\",\"W\"]:      # go through the 2 type of cycles\n",
    "    u=u_in.copy()            # with the same configuation as initial configuration\n",
    "    plt.figure(figsize=(8,6))\n",
    "    for nu_pre in [1,2,4]: #go through the different values of nu\n",
    "        # make multiple measurements\n",
    "        for i in range(10000):\n",
    "            mean_mag_2_MG.append(exp_m_2(u,len(u)))  #measure the magnetization pre and post \n",
    "            u_post=MG_simulation(u,cycle,nu_pre)\n",
    "            u=u_post\n",
    "\n",
    "        C_tau=[]\n",
    "        for t in range(25):\n",
    "            C_tau.append(estimator_C_tau(mean_mag_2_MG,t))  # Calculate the autocorrelation of the squared magnetisation\n",
    "\n",
    "        # and plot it\n",
    "        plt.plot(C_tau,\"o\",label=r\"$\\nu$={}\".format(nu_pre))\n",
    "        plt.axhline(0,color=\"gainsboro\")\n",
    "        plt.ylabel(r\"C($\\tau$)\")\n",
    "        plt.xlabel(r\"$\\tau$\")\n",
    "        plt.title(r\"Autocorrelation for {} configuration\".format(cycle))\n",
    "        plt.legend()"
   ]
  },
  {
   "cell_type": "code",
   "execution_count": 34,
   "metadata": {},
   "outputs": [],
   "source": []
  }
 ],
 "metadata": {
  "interpreter": {
   "hash": "ac6f678c232b4a69c5fd26c71386fcfb4af2fe31d0558d64059c6c621f0d0a05"
  },
  "kernelspec": {
   "display_name": "Python 3.8.5 64-bit ('CompPhys': conda)",
   "language": "python",
   "name": "python3"
  },
  "language_info": {
   "codemirror_mode": {
    "name": "ipython",
    "version": 3
   },
   "file_extension": ".py",
   "mimetype": "text/x-python",
   "name": "python",
   "nbconvert_exporter": "python",
   "pygments_lexer": "ipython3",
   "version": "3.8.5"
  },
  "orig_nbformat": 4
 },
 "nbformat": 4,
 "nbformat_minor": 2
}
