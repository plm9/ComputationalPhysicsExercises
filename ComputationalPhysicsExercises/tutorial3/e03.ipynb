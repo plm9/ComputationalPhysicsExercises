{
 "cells": [
  {
   "cell_type": "code",
   "execution_count": 1,
   "metadata": {},
   "outputs": [],
   "source": [
    "import numpy as np\n",
    "import matplotlib.pyplot as plt\n"
   ]
  },
  {
   "cell_type": "code",
   "execution_count": 2,
   "metadata": {},
   "outputs": [],
   "source": [
    "# Definition of artificial Hamiltonian\n",
    "def art_H(p,phi,J,beta_h,N):\n",
    "    return ((p**2)/2)+((phi**2)/(2*J))-(N*np.log(np.cosh(beta_h+phi)))\n",
    "#Definition of phi dot \n",
    "def phi_dot(p,phi):\n",
    "    return p\n",
    "#Definition of p dot\n",
    "def p_dot(p,phi,J,beta_h,N):\n",
    "    return -(phi/J)+(N*np.tanh(beta_h+phi))\n"
   ]
  },
  {
   "cell_type": "markdown",
   "metadata": {},
   "source": [
    "## Leapfrog algorithm"
   ]
  },
  {
   "cell_type": "code",
   "execution_count": 3,
   "metadata": {},
   "outputs": [],
   "source": [
    "def ribbit(p_0,phi_0,Nmd,J,beta_h,N,trajectory_len=1):\n",
    "    p_f=p_0     # initialize p\n",
    "    phi_f=phi_0 # and phi\n",
    "\n",
    "    epsilon=trajectory_len/Nmd # define the step size\n",
    "\n",
    "    p_f=p_f+0.5*epsilon*p_dot(p_f,phi_f,J,beta_h,N) # first half step for p\n",
    "\n",
    "    for i in range(Nmd):        \n",
    "        phi_f=phi_f+epsilon*phi_dot(p_f,phi_f)      # full step for phi \n",
    "        p_f=p_f+epsilon*p_dot(p_f,phi_f,J,beta_h,N) # full step for p \n",
    "        \n",
    "\n",
    "    p_f=p_f-.5*epsilon*p_dot(p_f,phi_f,J,beta_h,N)  #we go back half step for p\n",
    "\n",
    "    return p_f,phi_f\n"
   ]
  },
  {
   "cell_type": "markdown",
   "metadata": {},
   "source": [
    "## Convergence test"
   ]
  },
  {
   "cell_type": "code",
   "execution_count": 34,
   "metadata": {},
   "outputs": [
    {
     "data": {
      "image/png": "[encoded data removed]",
      "text/plain": [
       "<Figure size 720x540 with 1 Axes>"
      ]
     },
     "metadata": {
      "needs_background": "light"
     },
     "output_type": "display_data"
    }
   ],
   "source": [
    "phi_init=-2     # we initialize to random values for the test\n",
    "p_init=2\n",
    "\n",
    "beta_h=0.5      # here again \n",
    "J=1\n",
    "N=1\n",
    "\n",
    "#Calculation of the first hamiltonian \n",
    "H_start=art_H(p_init,phi_init,J,beta_h,N)\n",
    "\n",
    "#definition of the array for N_md\n",
    "Nmd_array = [i for i in range(1,100,1)]\n",
    "#storage list for the difference of H_end and H_start\n",
    "deltaH=[]\n",
    "\n",
    "#Implimentation of leap-frog algorithm \n",
    "for Nmd in Nmd_array:\n",
    "    p_f,phi_f= ribbit(p_init,phi_init,Nmd,J,beta_h,N)\n",
    "    H_end=art_H(p_f,phi_f,J,beta_h,N) #taking Hamiltonian after the leap-frog\n",
    "    deltaH.append(abs((H_end-H_start)/H_start)) #Saving the deltaH\n",
    "\n",
    "#ploting the convergence\n",
    "fig, ax = plt.subplots(1,1,figsize=(10,7.5))\n",
    "ax.plot(Nmd_array,deltaH,'ko')\n",
    "ax.set_yscale('log')\n",
    "ax.set_xlabel(r'$N_{md}$',fontsize=18)\n",
    "ax.set_ylabel(r'$\\left|\\frac{H_f-H_i}{H_i}\\right|$',fontsize=18)\n",
    "ax.grid()\n"
   ]
  },
  {
   "cell_type": "markdown",
   "metadata": {},
   "source": [
    "## Implimentation of HMC"
   ]
  },
  {
   "cell_type": "code",
   "execution_count": 26,
   "metadata": {},
   "outputs": [],
   "source": [
    "# Initialization of the variables to test the functionality of HMC\n",
    "Nmd=100           \n",
    "phi=[0]\n",
    "prob=[]\n",
    "nTraj=100000\n",
    "\n",
    "J=2\n",
    "beta_h=0.5\n",
    "N=5\n",
    "\n",
    "#Implimentation of HMC\n",
    "for traj in range(nTraj):\n",
    "    p_start=np.array([np.random.uniform(0,1)]) #Initialization of p with a random variable [0,1]\n",
    "    phi_start=phi[-1]                          #Taking the last element of phi which changes with the accept/reject method \n",
    "    H_start_HMC=art_H(phi_start,p_start[0],J,beta_h,N) #Calculation of initial Hamiltonian\n",
    "\n",
    "    p_out,phi_out=ribbit(p_start,phi_start,Nmd,J,beta_h,N) #Evolve with leap-frog\n",
    "\n",
    "    H_end_HMC=art_H(phi_out,p_out,J,beta_h,N)  # Calculate Hamiltonian after leap-frog\n",
    "\n",
    "    if np.random.uniform(0,1)<=np.exp(-(H_end_HMC-H_start_HMC)): #Accept/Reject with exp(-(H_end-H_start))\n",
    "        phi.append(phi_out)\n",
    "        prob.append(1)\n",
    "    else:\n",
    "        phi.append(phi_start)\n",
    "        prob.append(0)\n"
   ]
  },
  {
   "cell_type": "code",
   "execution_count": 27,
   "metadata": {},
   "outputs": [
    {
     "name": "stderr",
     "output_type": "stream",
     "text": [
      "C:\\Users\\apatsias\\AppData\\Roaming\\Python\\Python38\\site-packages\\numpy\\core\\_asarray.py:171: VisibleDeprecationWarning: Creating an ndarray from ragged nested sequences (which is a list-or-tuple of lists-or-tuples-or ndarrays with different lengths or shapes) is deprecated. If you meant to do this, you must specify 'dtype=object' when creating the ndarray.\n",
      "  return array(a, dtype, copy=False, order=order, subok=True)\n"
     ]
    },
    {
     "data": {
      "text/plain": [
       "[<matplotlib.lines.Line2D at 0x2a668863790>]"
      ]
     },
     "execution_count": 27,
     "metadata": {},
     "output_type": "execute_result"
    },
    {
     "data": {
      "image/png": "[encoded data removed]",
      "text/plain": [
       "<Figure size 432x288 with 1 Axes>"
      ]
     },
     "metadata": {
      "needs_background": "light"
     },
     "output_type": "display_data"
    }
   ],
   "source": [
    "plt.plot(phi,\"b-\") #Plot to verify that the algorithm worked"
   ]
  },
  {
   "cell_type": "markdown",
   "metadata": {},
   "source": [
    "From the plots we get the thermalisation time, which differs for different J"
   ]
  },
  {
   "cell_type": "markdown",
   "metadata": {},
   "source": [
    "## Calculations"
   ]
  },
  {
   "cell_type": "code",
   "execution_count": 35,
   "metadata": {},
   "outputs": [],
   "source": [
    "#Here we impliment the function calculated in question 1\n",
    "def m_phi(phi,beta_h):\n",
    "    return np.tanh(beta_h+phi)\n",
    "\n",
    "def energy_phi(phi,J,beta_h,N):\n",
    "    h=beta_h\n",
    "    return -((phi**2)/(2*J*N))-(np.tanh(beta_h+phi)*h)"
   ]
  },
  {
   "cell_type": "code",
   "execution_count": 63,
   "metadata": {},
   "outputs": [
    {
     "name": "stderr",
     "output_type": "stream",
     "text": [
      "C:\\Users\\apatsias\\AppData\\Roaming\\Python\\Python38\\site-packages\\numpy\\core\\_asarray.py:171: VisibleDeprecationWarning: Creating an ndarray from ragged nested sequences (which is a list-or-tuple of lists-or-tuples-or ndarrays with different lengths or shapes) is deprecated. If you meant to do this, you must specify 'dtype=object' when creating the ndarray.\n",
      "  return array(a, dtype, copy=False, order=order, subok=True)\n"
     ]
    },
    {
     "data": {
      "image/png": "[encoded data removed]",
      "text/plain": [
       "<Figure size 432x288 with 1 Axes>"
      ]
     },
     "metadata": {
      "needs_background": "light"
     },
     "output_type": "display_data"
    },
    {
     "name": "stderr",
     "output_type": "stream",
     "text": [
      "C:\\Users\\apatsias\\AppData\\Roaming\\Python\\Python38\\site-packages\\numpy\\core\\_asarray.py:171: VisibleDeprecationWarning: Creating an ndarray from ragged nested sequences (which is a list-or-tuple of lists-or-tuples-or ndarrays with different lengths or shapes) is deprecated. If you meant to do this, you must specify 'dtype=object' when creating the ndarray.\n",
      "  return array(a, dtype, copy=False, order=order, subok=True)\n"
     ]
    },
    {
     "data": {
      "image/png": "[encoded data removed]",
      "text/plain": [
       "<Figure size 432x288 with 1 Axes>"
      ]
     },
     "metadata": {
      "needs_background": "light"
     },
     "output_type": "display_data"
    }
   ],
   "source": [
    "#We set an acceptable N_md so that acceptance rate is <50%\n",
    "N_md=50\n",
    "\n",
    "#We set values as needed\n",
    "beta_h=0.5\n",
    "J_range=np.arange(.2,2,0.1)\n",
    "\n",
    "#number of N that changes to\n",
    "N=20                      #5,10,15,20\n",
    "\n",
    "#With these values for thermalization and trajectories for every N take around 2-3 minutes per run\n",
    "nTherm=1000 \n",
    "nTraj=10000\n",
    "\n",
    "#initialize lists to store our measurements\n",
    "mean_magnetization=[]\n",
    "avg_energy_per_site=[]\n",
    "\n",
    "# we loop over for different J\n",
    "for J in J_range:\n",
    "    phi=[0]         # initialize phi and the probability list \n",
    "    prob=[]\n",
    "    #Thermalize with the HMC\n",
    "    for traj in range(nTherm):\n",
    "        p_start=np.array([np.random.uniform(0,1)])\n",
    "        phi_start=phi[-1]    \n",
    "        H_start_HMC=art_H(phi_start,p_start[0],J,beta_h,N)\n",
    "        \n",
    "        p_out,phi_out=ribbit(p_start,phi_start,Nmd,J,beta_h,N)\n",
    "\n",
    "        H_end_HMC=art_H(phi_out,p_out,J,beta_h,N)\n",
    "\n",
    "        if np.random.uniform(0,1)<=np.exp(-(H_end_HMC-H_start_HMC)):\n",
    "            phi.append(phi_out)\n",
    "            prob.append(1)\n",
    "        else:\n",
    "            phi.append(phi_start)\n",
    "            prob.append(0)\n",
    "\n",
    "    #Run the HMC after the thermalization\n",
    "    for trah in range(nTraj):\n",
    "        p_start=np.array([np.random.uniform(0,1)])\n",
    "        phi_start=phi[-1]    \n",
    "        H_start_HMC=art_H(phi_start,p_start[0],J,beta_h,N)\n",
    "        \n",
    "        p_out,phi_out=ribbit(p_start,phi_start,Nmd,J,beta_h,N)\n",
    "\n",
    "        H_end_HMC=art_H(phi_out,p_out,J,beta_h,N)\n",
    "\n",
    "        if np.random.uniform(0,1)<=np.exp(-(H_end_HMC-H_start_HMC)):\n",
    "            phi.append(phi_out)\n",
    "            prob.append(1)\n",
    "        else:\n",
    "            phi.append(phi_start)\n",
    "            prob.append(0)\n",
    "    \n",
    "    #Here we calculate the average phi after the thermalization\n",
    "    sum_mag=0\n",
    "    for i in range(nTherm,len(phi)-1):\n",
    "        sum_mag+=phi[i]*prob[i]\n",
    "    avg_phi=sum_mag/nTraj\n",
    "\n",
    "    #Here we take the measurements for every J \n",
    "    mean_magnetization.append(m_phi(avg_phi,beta_h)/nTraj)\n",
    "    avg_energy_per_site.append(energy_phi(avg_phi,J,beta_h,N)/nTraj)\n",
    "\n",
    "#Plot for <m>\n",
    "plt.plot(J_range,mean_magnetization,\"k-\")\n",
    "plt.xlabel(\"J\")\n",
    "plt.ylabel(r'$\\langle m \\rangle$')\n",
    "plt.title(\"Mean magnetization as a function of J for N={}\".format(N))\n",
    "plt.grid()\n",
    "plt.show()\n",
    "#Plot for <ε>\n",
    "plt.plot(J_range,avg_energy_per_site,\"r-\")\n",
    "plt.xlabel(\"J\")\n",
    "plt.ylabel(r'$\\langle \\epsilon \\rangle$')\n",
    "plt.title(\"Average energy per site as a function of J for N={}\".format(N))\n",
    "plt.grid()\n",
    "plt.show()\n",
    "\n",
    "\n",
    "\n"
   ]
  }
 ],
 "metadata": {
  "interpreter": {
   "hash": "ac6f678c232b4a69c5fd26c71386fcfb4af2fe31d0558d64059c6c621f0d0a05"
  },
  "kernelspec": {
   "display_name": "Python 3.8.5 64-bit ('CompPhys': conda)",
   "language": "python",
   "name": "python3"
  },
  "language_info": {
   "codemirror_mode": {
    "name": "ipython",
    "version": 3
   },
   "file_extension": ".py",
   "mimetype": "text/x-python",
   "name": "python",
   "nbconvert_exporter": "python",
   "pygments_lexer": "ipython3",
   "version": "3.8.5"
  },
  "orig_nbformat": 4
 },
 "nbformat": 4,
 "nbformat_minor": 2
}
